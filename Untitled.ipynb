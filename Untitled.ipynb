{
 "cells": [
  {
   "cell_type": "code",
   "execution_count": 1,
   "id": "bd00bf30-0894-4f60-b8b4-e8bdeeb9780b",
   "metadata": {},
   "outputs": [],
   "source": [
    "from urllib.request import urlopen as uReq\n",
    "from bs4 import BeautifulSoup as soup "
   ]
  },
  {
   "cell_type": "code",
   "execution_count": 2,
   "id": "93c55dcc-d7f4-4865-80e3-0b4aeb743a65",
   "metadata": {},
   "outputs": [],
   "source": [
    "my_url = 'https://www.udemy.com/?utm_source=adwords-brand&utm_medium=udemyads&utm_campaign=Brand-Udemy_la.EN_cc.ROW&utm_term=_._ag_80315195513_._ad_535757779892_._de_c_._dm__._pl__._ti_kwd-296956216253_._li_1029491_._pd__._&utm_term=_._pd__._kw_udemy_._&matchtype=b&gclid=Cj0KCQjwxYOiBhC9ARIsANiEIfancVNZ_t864S35aqIrOutWn2RRCMCcR8SI5pH7dncwFunlZFbkjMAaAlEIEALw_wcB'"
   ]
  },
  {
   "cell_type": "code",
   "execution_count": 3,
   "id": "95f16639-b22c-4867-be28-79caef432cab",
   "metadata": {},
   "outputs": [],
   "source": [
    "uClient = uReq(my_url)\n",
    "page_html = uClient.read()\n",
    "uClient.close()"
   ]
  },
  {
   "cell_type": "code",
   "execution_count": 4,
   "id": "7381ef3c-34a7-4679-9376-c450c948cd56",
   "metadata": {},
   "outputs": [
    {
     "data": {
      "text/plain": [
       "28"
      ]
     },
     "execution_count": 4,
     "metadata": {},
     "output_type": "execute_result"
    }
   ],
   "source": [
    "page_soup = soup(page_html,'html.parser')\n",
    "\n",
    "filename = 'evergreen_data.csv'\n",
    "f = open(filename, 'w')\n",
    "headers = 'url,title,price,instructor,\\n'\n",
    "f.write(headers)"
   ]
  },
  {
   "cell_type": "code",
   "execution_count": 10,
   "id": "0e18be3c-bd2b-47f5-b0ca-428f06814f08",
   "metadata": {},
   "outputs": [],
   "source": [
    "udemyTopic = page_soup.findAll(\"h3\",{'class':'ud-heading-md'})"
   ]
  },
  {
   "cell_type": "code",
   "execution_count": 12,
   "id": "56c319fa-3b52-4d17-89c5-63e7bd85084d",
   "metadata": {},
   "outputs": [],
   "source": [
    "udemyTitle = page_soup.findAll(\"a\",{'class':'ud-heading-md'})"
   ]
  },
  {
   "cell_type": "code",
   "execution_count": 27,
   "id": "6dde1aa0-dce0-404c-9009-d920ee83e74f",
   "metadata": {},
   "outputs": [
    {
     "data": {
      "text/plain": [
       "'[NEW] Ultimate AWS Certified Cloud Practitioner - 2022'"
      ]
     },
     "execution_count": 27,
     "metadata": {},
     "output_type": "execute_result"
    }
   ],
   "source": [
    "udemyTitle[0].span.text"
   ]
  },
  {
   "cell_type": "code",
   "execution_count": 52,
   "id": "532e6ca6-0cc6-4dd2-8dd0-e71d56d31f7b",
   "metadata": {},
   "outputs": [],
   "source": [
    "udemyTo = page_soup.findAll(\"div\",{'class':'course-card--instructor-list--nH1OC'})"
   ]
  },
  {
   "cell_type": "code",
   "execution_count": 53,
   "id": "c5224ccf-70af-4a74-aee1-55c381a7508e",
   "metadata": {},
   "outputs": [
    {
     "data": {
      "text/plain": [
       "[]"
      ]
     },
     "execution_count": 53,
     "metadata": {},
     "output_type": "execute_result"
    }
   ],
   "source": [
    "udemyTo"
   ]
  },
  {
   "cell_type": "code",
   "execution_count": null,
   "id": "ee0b2b39-8edf-46d3-95de-2cba90bb3ff4",
   "metadata": {},
   "outputs": [],
   "source": []
  }
 ],
 "metadata": {
  "kernelspec": {
   "display_name": "Python 3 (ipykernel)",
   "language": "python",
   "name": "python3"
  },
  "language_info": {
   "codemirror_mode": {
    "name": "ipython",
    "version": 3
   },
   "file_extension": ".py",
   "mimetype": "text/x-python",
   "name": "python",
   "nbconvert_exporter": "python",
   "pygments_lexer": "ipython3",
   "version": "3.9.13"
  }
 },
 "nbformat": 4,
 "nbformat_minor": 5
}
