{
 "cells": [
  {
   "cell_type": "code",
   "execution_count": 23,
   "id": "cc6dc602-d297-4a0a-afd1-25e925874e1c",
   "metadata": {},
   "outputs": [],
   "source": [
    "from urllib.request import urlopen as uReq\n",
    "from bs4 import BeautifulSoup as soup "
   ]
  },
  {
   "cell_type": "code",
   "execution_count": 24,
   "id": "3b269ca2-2b97-4f8f-ad2a-845fbc0bae67",
   "metadata": {},
   "outputs": [],
   "source": [
    "my_url = 'https://evergreenadventure.com.my/'"
   ]
  },
  {
   "cell_type": "code",
   "execution_count": 25,
   "id": "b13b9877-5059-4da3-a61b-fa8bd524cb46",
   "metadata": {},
   "outputs": [],
   "source": [
    "uClient = uReq(my_url)\n",
    "page_html = uClient.read()\n",
    "uClient.close()"
   ]
  },
  {
   "cell_type": "code",
   "execution_count": 26,
   "id": "b806c64b-d2a9-416b-a447-830c48297b62",
   "metadata": {},
   "outputs": [
    {
     "data": {
      "text/plain": [
       "16"
      ]
     },
     "execution_count": 26,
     "metadata": {},
     "output_type": "execute_result"
    }
   ],
   "source": [
    "page_soup = soup(page_html,'html.parser')\n",
    "\n",
    "filename = 'data.csv'\n",
    "f = open(filename, 'w')\n",
    "headers = 'url,title,price\\n'\n",
    "f.write(headers)"
   ]
  },
  {
   "cell_type": "code",
   "execution_count": 27,
   "id": "c838b5ad-c1cb-4ccb-8239-eddc67d3120c",
   "metadata": {},
   "outputs": [],
   "source": [
    "evergreenTitle = page_soup.findAll(\"p\",{'class':'name product-title woocommerce-loop-product__title'})"
   ]
  },
  {
   "cell_type": "code",
   "execution_count": 28,
   "id": "80f8eede-ce10-40fb-afcc-00633d530fb4",
   "metadata": {},
   "outputs": [],
   "source": [
    "evergreenPrice = page_soup.findAll(\"span\",{'class':'woocommerce-Price-amount amount'})"
   ]
  },
  {
   "cell_type": "code",
   "execution_count": 29,
   "id": "a8f6379e-dc1d-4204-b891-ff42950696e6",
   "metadata": {
    "tags": []
   },
   "outputs": [],
   "source": [
    "# evergreenTitle"
   ]
  },
  {
   "cell_type": "code",
   "execution_count": 30,
   "id": "ff11466a-0bda-40c5-a449-6a212a383f94",
   "metadata": {},
   "outputs": [],
   "source": [
    "for i in range(0, len(evergreenTitle)):\n",
    "    link = evergreenTitle[i].a['href']\n",
    "    name = evergreenTitle[i].a.text\n",
    "    price = evergreenPrice[i].bdi.text\n",
    "    f.write(link.replace(\",\",\"|\")+\",\"+name.replace(\",\",\"|\")+\",\"+price.replace(\",\",\"|\")+\"\\n\")"
   ]
  },
  {
   "cell_type": "code",
   "execution_count": 31,
   "id": "7f1ad247-32fe-4b84-9f5c-510291a13258",
   "metadata": {},
   "outputs": [],
   "source": [
    "for i in range(0, len(evergreenPrice)):\n",
    "    price = evergreenPrice[0].bdi.text"
   ]
  },
  {
   "cell_type": "code",
   "execution_count": 32,
   "id": "927be51c-3e6c-4c7b-8f19-da3d1a6e3475",
   "metadata": {},
   "outputs": [
    {
     "data": {
      "text/plain": [
       "'RM0.00'"
      ]
     },
     "execution_count": 32,
     "metadata": {},
     "output_type": "execute_result"
    }
   ],
   "source": [
    "evergreenPrice[0].bdi.text"
   ]
  },
  {
   "cell_type": "code",
   "execution_count": 33,
   "id": "9810d7cb-fa2b-45b2-bc6b-4e1e7bf28df2",
   "metadata": {},
   "outputs": [
    {
     "data": {
      "text/plain": [
       "[<span class=\"woocommerce-Price-amount amount\"><bdi><span class=\"woocommerce-Price-currencySymbol\">RM</span>0.00</bdi></span>,\n",
       " <span class=\"woocommerce-Price-amount amount\"><bdi><span class=\"woocommerce-Price-currencySymbol\">RM</span>189.00</bdi></span>,\n",
       " <span class=\"woocommerce-Price-amount amount\"><bdi><span class=\"woocommerce-Price-currencySymbol\">RM</span>126.01</bdi></span>,\n",
       " <span class=\"woocommerce-Price-amount amount\"><bdi><span class=\"woocommerce-Price-currencySymbol\">RM</span>299.00</bdi></span>,\n",
       " <span class=\"woocommerce-Price-amount amount\"><bdi><span class=\"woocommerce-Price-currencySymbol\">RM</span>2,199.00</bdi></span>,\n",
       " <span class=\"woocommerce-Price-amount amount\"><bdi><span class=\"woocommerce-Price-currencySymbol\">RM</span>139.00</bdi></span>,\n",
       " <span class=\"woocommerce-Price-amount amount\"><bdi><span class=\"woocommerce-Price-currencySymbol\">RM</span>169.00</bdi></span>,\n",
       " <span class=\"woocommerce-Price-amount amount\"><bdi><span class=\"woocommerce-Price-currencySymbol\">RM</span>305.00</bdi></span>,\n",
       " <span class=\"woocommerce-Price-amount amount\"><bdi><span class=\"woocommerce-Price-currencySymbol\">RM</span>274.50</bdi></span>,\n",
       " <span class=\"woocommerce-Price-amount amount\"><bdi><span class=\"woocommerce-Price-currencySymbol\">RM</span>198.00</bdi></span>,\n",
       " <span class=\"woocommerce-Price-amount amount\"><bdi><span class=\"woocommerce-Price-currencySymbol\">RM</span>178.20</bdi></span>,\n",
       " <span class=\"woocommerce-Price-amount amount\"><bdi><span class=\"woocommerce-Price-currencySymbol\">RM</span>458.00</bdi></span>,\n",
       " <span class=\"woocommerce-Price-amount amount\"><bdi><span class=\"woocommerce-Price-currencySymbol\">RM</span>412.20</bdi></span>,\n",
       " <span class=\"woocommerce-Price-amount amount\"><bdi><span class=\"woocommerce-Price-currencySymbol\">RM</span>138.00</bdi></span>,\n",
       " <span class=\"woocommerce-Price-amount amount\"><bdi><span class=\"woocommerce-Price-currencySymbol\">RM</span>124.20</bdi></span>,\n",
       " <span class=\"woocommerce-Price-amount amount\"><bdi><span class=\"woocommerce-Price-currencySymbol\">RM</span>88.00</bdi></span>,\n",
       " <span class=\"woocommerce-Price-amount amount\"><bdi><span class=\"woocommerce-Price-currencySymbol\">RM</span>79.20</bdi></span>,\n",
       " <span class=\"woocommerce-Price-amount amount\"><bdi><span class=\"woocommerce-Price-currencySymbol\">RM</span>35.00</bdi></span>,\n",
       " <span class=\"woocommerce-Price-amount amount\"><bdi><span class=\"woocommerce-Price-currencySymbol\">RM</span>17.50</bdi></span>,\n",
       " <span class=\"woocommerce-Price-amount amount\"><bdi><span class=\"woocommerce-Price-currencySymbol\">RM</span>30.00</bdi></span>,\n",
       " <span class=\"woocommerce-Price-amount amount\"><bdi><span class=\"woocommerce-Price-currencySymbol\">RM</span>15.00</bdi></span>,\n",
       " <span class=\"woocommerce-Price-amount amount\"><bdi><span class=\"woocommerce-Price-currencySymbol\">RM</span>30.00</bdi></span>,\n",
       " <span class=\"woocommerce-Price-amount amount\"><bdi><span class=\"woocommerce-Price-currencySymbol\">RM</span>15.00</bdi></span>,\n",
       " <span class=\"woocommerce-Price-amount amount\"><bdi><span class=\"woocommerce-Price-currencySymbol\">RM</span>32.00</bdi></span>,\n",
       " <span class=\"woocommerce-Price-amount amount\"><bdi><span class=\"woocommerce-Price-currencySymbol\">RM</span>12.90</bdi></span>,\n",
       " <span class=\"woocommerce-Price-amount amount\"><bdi><span class=\"woocommerce-Price-currencySymbol\">RM</span>46.00</bdi></span>,\n",
       " <span class=\"woocommerce-Price-amount amount\"><bdi><span class=\"woocommerce-Price-currencySymbol\">RM</span>12.90</bdi></span>,\n",
       " <span class=\"woocommerce-Price-amount amount\"><bdi><span class=\"woocommerce-Price-currencySymbol\">RM</span>41.00</bdi></span>,\n",
       " <span class=\"woocommerce-Price-amount amount\"><bdi><span class=\"woocommerce-Price-currencySymbol\">RM</span>12.90</bdi></span>,\n",
       " <span class=\"woocommerce-Price-amount amount\"><bdi><span class=\"woocommerce-Price-currencySymbol\">RM</span>32.00</bdi></span>,\n",
       " <span class=\"woocommerce-Price-amount amount\"><bdi><span class=\"woocommerce-Price-currencySymbol\">RM</span>12.90</bdi></span>,\n",
       " <span class=\"woocommerce-Price-amount amount\"><bdi><span class=\"woocommerce-Price-currencySymbol\">RM</span>33.00</bdi></span>,\n",
       " <span class=\"woocommerce-Price-amount amount\"><bdi><span class=\"woocommerce-Price-currencySymbol\">RM</span>12.90</bdi></span>,\n",
       " <span class=\"woocommerce-Price-amount amount\"><bdi><span class=\"woocommerce-Price-currencySymbol\">RM</span>12.00</bdi></span>,\n",
       " <span class=\"woocommerce-Price-amount amount\"><bdi><span class=\"woocommerce-Price-currencySymbol\">RM</span>14.00</bdi></span>,\n",
       " <span class=\"woocommerce-Price-amount amount\"><bdi><span class=\"woocommerce-Price-currencySymbol\">RM</span>15.00</bdi></span>,\n",
       " <span class=\"woocommerce-Price-amount amount\"><bdi><span class=\"woocommerce-Price-currencySymbol\">RM</span>18.00</bdi></span>,\n",
       " <span class=\"woocommerce-Price-amount amount\"><bdi><span class=\"woocommerce-Price-currencySymbol\">RM</span>504.90</bdi></span>,\n",
       " <span class=\"woocommerce-Price-amount amount\"><bdi><span class=\"woocommerce-Price-currencySymbol\">RM</span>378.68</bdi></span>,\n",
       " <span class=\"woocommerce-Price-amount amount\"><bdi><span class=\"woocommerce-Price-currencySymbol\">RM</span>79.70</bdi></span>,\n",
       " <span class=\"woocommerce-Price-amount amount\"><bdi><span class=\"woocommerce-Price-currencySymbol\">RM</span>59.78</bdi></span>,\n",
       " <span class=\"woocommerce-Price-amount amount\"><bdi><span class=\"woocommerce-Price-currencySymbol\">RM</span>297.60</bdi></span>,\n",
       " <span class=\"woocommerce-Price-amount amount\"><bdi><span class=\"woocommerce-Price-currencySymbol\">RM</span>223.20</bdi></span>,\n",
       " <span class=\"woocommerce-Price-amount amount\"><bdi><span class=\"woocommerce-Price-currencySymbol\">RM</span>239.10</bdi></span>,\n",
       " <span class=\"woocommerce-Price-amount amount\"><bdi><span class=\"woocommerce-Price-currencySymbol\">RM</span>179.33</bdi></span>,\n",
       " <span class=\"woocommerce-Price-amount amount\"><bdi><span class=\"woocommerce-Price-currencySymbol\">RM</span>243.80</bdi></span>,\n",
       " <span class=\"woocommerce-Price-amount amount\"><bdi><span class=\"woocommerce-Price-currencySymbol\">RM</span>182.85</bdi></span>,\n",
       " <span class=\"woocommerce-Price-amount amount\"><bdi><span class=\"woocommerce-Price-currencySymbol\">RM</span>419.90</bdi></span>,\n",
       " <span class=\"woocommerce-Price-amount amount\"><bdi><span class=\"woocommerce-Price-currencySymbol\">RM</span>314.93</bdi></span>,\n",
       " <span class=\"woocommerce-Price-amount amount\"><bdi><span class=\"woocommerce-Price-currencySymbol\">RM</span>419.90</bdi></span>,\n",
       " <span class=\"woocommerce-Price-amount amount\"><bdi><span class=\"woocommerce-Price-currencySymbol\">RM</span>314.93</bdi></span>,\n",
       " <span class=\"woocommerce-Price-amount amount\"><bdi><span class=\"woocommerce-Price-currencySymbol\">RM</span>63.80</bdi></span>,\n",
       " <span class=\"woocommerce-Price-amount amount\"><bdi><span class=\"woocommerce-Price-currencySymbol\">RM</span>47.85</bdi></span>,\n",
       " <span class=\"woocommerce-Price-amount amount\"><bdi><span class=\"woocommerce-Price-currencySymbol\">RM</span>111.00</bdi></span>,\n",
       " <span class=\"woocommerce-Price-amount amount\"><bdi><span class=\"woocommerce-Price-currencySymbol\">RM</span>83.25</bdi></span>,\n",
       " <span class=\"woocommerce-Price-amount amount\"><bdi><span class=\"woocommerce-Price-currencySymbol\">RM</span>25.40</bdi></span>,\n",
       " <span class=\"woocommerce-Price-amount amount\"><bdi><span class=\"woocommerce-Price-currencySymbol\">RM</span>19.05</bdi></span>,\n",
       " <span class=\"woocommerce-Price-amount amount\"><bdi><span class=\"woocommerce-Price-currencySymbol\">RM</span>222.60</bdi></span>,\n",
       " <span class=\"woocommerce-Price-amount amount\"><bdi><span class=\"woocommerce-Price-currencySymbol\">RM</span>178.08</bdi></span>,\n",
       " <span class=\"woocommerce-Price-amount amount\"><bdi><span class=\"woocommerce-Price-currencySymbol\">RM</span>63.60</bdi></span>,\n",
       " <span class=\"woocommerce-Price-amount amount\"><bdi><span class=\"woocommerce-Price-currencySymbol\">RM</span>125.00</bdi></span>,\n",
       " <span class=\"woocommerce-Price-amount amount\"><bdi><span class=\"woocommerce-Price-currencySymbol\">RM</span>125.00</bdi></span>,\n",
       " <span class=\"woocommerce-Price-amount amount\"><bdi><span class=\"woocommerce-Price-currencySymbol\">RM</span>144.10</bdi></span>,\n",
       " <span class=\"woocommerce-Price-amount amount\"><bdi><span class=\"woocommerce-Price-currencySymbol\">RM</span>91.10</bdi></span>,\n",
       " <span class=\"woocommerce-Price-amount amount\"><bdi><span class=\"woocommerce-Price-currencySymbol\">RM</span>72.88</bdi></span>,\n",
       " <span class=\"woocommerce-Price-amount amount\"><bdi><span class=\"woocommerce-Price-currencySymbol\">RM</span>53.00</bdi></span>,\n",
       " <span class=\"woocommerce-Price-amount amount\"><bdi><span class=\"woocommerce-Price-currencySymbol\">RM</span>42.40</bdi></span>,\n",
       " <span class=\"woocommerce-Price-amount amount\"><bdi><span class=\"woocommerce-Price-currencySymbol\">RM</span>53.00</bdi></span>,\n",
       " <span class=\"woocommerce-Price-amount amount\"><bdi><span class=\"woocommerce-Price-currencySymbol\">RM</span>42.40</bdi></span>,\n",
       " <span class=\"woocommerce-Price-amount amount\"><bdi><span class=\"woocommerce-Price-currencySymbol\">RM</span>62.50</bdi></span>,\n",
       " <span class=\"woocommerce-Price-amount amount\"><bdi><span class=\"woocommerce-Price-currencySymbol\">RM</span>50.00</bdi></span>,\n",
       " <span class=\"woocommerce-Price-amount amount\"><bdi><span class=\"woocommerce-Price-currencySymbol\">RM</span>62.50</bdi></span>,\n",
       " <span class=\"woocommerce-Price-amount amount\"><bdi><span class=\"woocommerce-Price-currencySymbol\">RM</span>50.00</bdi></span>]"
      ]
     },
     "execution_count": 33,
     "metadata": {},
     "output_type": "execute_result"
    }
   ],
   "source": [
    "evergreenPrice"
   ]
  },
  {
   "cell_type": "code",
   "execution_count": null,
   "id": "5c5e7774-3753-4402-845b-51c47ccc1eff",
   "metadata": {},
   "outputs": [],
   "source": []
  },
  {
   "cell_type": "code",
   "execution_count": null,
   "id": "d9b488b3-2663-438d-aa3b-7804eefa5a74",
   "metadata": {},
   "outputs": [],
   "source": []
  },
  {
   "cell_type": "code",
   "execution_count": null,
   "id": "772efd11-5f1f-45f6-880b-ed13031bcac8",
   "metadata": {},
   "outputs": [],
   "source": []
  },
  {
   "cell_type": "code",
   "execution_count": null,
   "id": "58bdfc31-ea94-4cde-bbd1-a5424e44b8ce",
   "metadata": {},
   "outputs": [],
   "source": []
  }
 ],
 "metadata": {
  "kernelspec": {
   "display_name": "Python 3 (ipykernel)",
   "language": "python",
   "name": "python3"
  },
  "language_info": {
   "codemirror_mode": {
    "name": "ipython",
    "version": 3
   },
   "file_extension": ".py",
   "mimetype": "text/x-python",
   "name": "python",
   "nbconvert_exporter": "python",
   "pygments_lexer": "ipython3",
   "version": "3.9.13"
  }
 },
 "nbformat": 4,
 "nbformat_minor": 5
}
